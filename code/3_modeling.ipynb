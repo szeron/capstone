{
 "cells": [
  {
   "attachments": {},
   "cell_type": "markdown",
   "metadata": {},
   "source": [
    "<img src=\"http://imgur.com/1ZcRyrc.png\" style=\"float: left; margin: 20px; height: 55px\">\n",
    "\n",
    "# Capstone Project - Wine Recommender System <br> [Part 3 of 3]"
   ]
  },
  {
   "attachments": {},
   "cell_type": "markdown",
   "metadata": {
    "id": "4oQlBkKIzq5F"
   },
   "source": [
    "## Contents:\n",
    "- [Modeling](##Modeling)\n",
    "- [Hyperparameter Tuning](##Hyperparameter-Tuning)\n",
    "- [Conclusion](##Conclusion)\n",
    "- [Limitations](##Limitations)\n",
    "- [Recommendations](##Recommendations)"
   ]
  },
  {
   "attachments": {},
   "cell_type": "markdown",
   "metadata": {
    "id": "gDgLbO48JwJX"
   },
   "source": [
    "---\n",
    "## Modeling\n",
    "---"
   ]
  },
  {
   "cell_type": "code",
   "execution_count": 22,
   "metadata": {},
   "outputs": [],
   "source": [
    "# Importing Libraries\n",
    "\n",
    "import pandas as pd\n",
    "import numpy as np\n",
    "import random\n",
    "import matplotlib.pyplot as plt\n",
    "from surprise import Dataset, Reader, accuracy\n",
    "from surprise.model_selection import cross_validate, KFold, GridSearchCV\n",
    "from surprise import NormalPredictor, BaselineOnly, KNNBasic, KNNWithMeans, KNNWithZScore, KNNBaseline, SVD, NMF, CoClustering\n",
    "from sklearn.feature_extraction.text import TfidfVectorizer\n",
    "from sklearn.metrics.pairwise import cosine_similarity"
   ]
  },
  {
   "cell_type": "code",
   "execution_count": 3,
   "metadata": {
    "id": "iaRZZCcTKq5s"
   },
   "outputs": [],
   "source": [
    "df = pd.read_pickle('../data/wine_reviews_clean.pkl')"
   ]
  },
  {
   "cell_type": "code",
   "execution_count": 4,
   "metadata": {},
   "outputs": [],
   "source": [
    "# Assign a unique ID to each wine\n",
    "df['wine_id'] = df.index\n",
    "\n",
    "# Assign a unique ID to each taster\n",
    "taster_ids = df['taster_name'].drop_duplicates().reset_index(drop=True)\n",
    "df['user_id'] = df['taster_name'].map(lambda taster: taster_ids[taster_ids == taster].index[0])\n",
    "\n",
    "# Save the updated DataFrame as a pickle file\n",
    "df.to_pickle('../data/wine_reviews_clean.pkl')\n",
    "\n",
    "# Convert the dataframe to a user preferences format\n",
    "user_prefs = df[['user_id', 'wine_id', 'points']]\n",
    "\n",
    "# Save user preferences dataframe\n",
    "user_prefs[['user_id', 'wine_id', 'points']].to_csv(\"../data/user_prefs.csv\", index=False)\n",
    "\n",
    "# Load data\n",
    "reader = Reader(line_format='user item rating', sep=',', rating_scale=(90, 100), skip_lines=1)\n",
    "data = Dataset.load_from_file(\"../data/user_prefs.csv\", reader=reader)"
   ]
  },
  {
   "attachments": {},
   "cell_type": "markdown",
   "metadata": {},
   "source": [
    "The Surprise library may be used for building and evaluating collaborative filtering-based recommendation systems. It provides several built-in algorithms to experiment with and evaluate different recommendation strategies. The algorithms in this list include:\n",
    "\n",
    "`Normal Predictor`: Predicts a random rating based on the distribution of the training set, which is assumed to be normal. It is mostly used for a baseline to compare with more advanced algorithms\n",
    "\n",
    "`Baseline Predictor`: Predicts ratings based on the overall mean rating, user biases, and item biases. It's a basic yet effective model for handling user and item biases in collaborative filtering\n",
    "\n",
    "`KNN Basic`: A collaborative filtering algorithm based on k-Nearest Neighbors, which uses the similarities between users or items to make recommendations. This is the most basic version of the KNN algorithm\n",
    "\n",
    "`KNN with Means`: An extension of the KNN Basic algorithm, which takes into account the mean ratings of each user or item while computing similarities\n",
    "\n",
    "`KNN with Z-score`: Another extension of the KNN Basic algorithm, which normalizes the ratings using the z-score normalization method while computing similarities\n",
    "\n",
    "`KNN Baseline`: A more advanced version of the KNN Basic algorithm that considers both user and item biases while computing similarities\n",
    "\n",
    "`SVD`: A matrix factorization technique that is particularly effective for sparse datasets\n",
    "\n",
    "`Non-negative Matrix Factorization (NMF)`: Enforces non-negativity constraints on the factor matrices. This can be useful for certain types of data, such as when the ratings are only positive\n",
    "\n",
    "`Co-Clustering`: A collaborative filtering algorithm that clusters both users and items simultaneously, allowing for the simultaneous grouping of users and items to discover latent structures"
   ]
  },
  {
   "cell_type": "code",
   "execution_count": 5,
   "metadata": {},
   "outputs": [],
   "source": [
    "# Define the algorithms\n",
    "algorithms = [\n",
    "    ('Normal Predictor', NormalPredictor()),\n",
    "    ('Baseline Predictor', BaselineOnly()),\n",
    "    ('KNN Basic', KNNBasic()),\n",
    "    ('KNN with Means', KNNWithMeans()),\n",
    "    ('KNN with Z-score', KNNWithZScore()),\n",
    "    ('KNN Baseline', KNNBaseline()),\n",
    "    ('SVD', SVD()),\n",
    "    ('Non-negative Matrix Factorization', NMF()),\n",
    "    ('Co-Clustering', CoClustering()),\n",
    "]"
   ]
  },
  {
   "cell_type": "code",
   "execution_count": 6,
   "metadata": {},
   "outputs": [],
   "source": [
    "# K-Fold Cross-Validation\n",
    "k_fold = KFold(n_splits=5, shuffle=True, random_state=random.seed(42))"
   ]
  },
  {
   "attachments": {},
   "cell_type": "markdown",
   "metadata": {},
   "source": [
    "The threshold value determines the benchmark for wines to be considered relevant. \n",
    "\n",
    "We will set our threshold to be 91 points, which is the median of our dataset. A low threshold means that wines with lower ratings will be considered relevant, while a high threshold requires wines to have higher ratings to be considered relevant. \n",
    "\n",
    "When the threshold is low, precision might be high because many wines are considered relevant, but recall might be lower because fewer relevant wines are included in the top k recommendations. \n",
    "\n",
    "When the threshold is high, precision might be lower because only a few wines meet the high rating requirement, but recall might be higher because more of the relevant wines are included in the top k recommendations.\n",
    "- `Precision@k` : Proportion of relevant wines among the top k recommendations, i.e. relevance of recommended wines\n",
    "- `Recall@k` : Proportion of relevant wines among the top k recommendations out of all the relevant wines, i.e. coverage of relevant wines\n",
    "\n",
    "A high precision means that the recommender is providing mostly relevant recommendations, which can be beneficial if users prefer a small, highly curated set of options.\n",
    "\n",
    "A high recall means that the recommender is capturing most of the relevant items, which is useful if users want to ensure they are not missing out on any good options."
   ]
  },
  {
   "cell_type": "code",
   "execution_count": 7,
   "metadata": {},
   "outputs": [],
   "source": [
    "# Define Precision@k and Recall@k\n",
    "def precision_recall_at_k(predictions, k=10, threshold=91):\n",
    "    user_est_true = dict()\n",
    "    for uid, _, true_r, est, _ in predictions:\n",
    "        if uid not in user_est_true:\n",
    "            user_est_true[uid] = []\n",
    "        user_est_true[uid].append((est, true_r))\n",
    "\n",
    "    precisions = dict()\n",
    "    recalls = dict()\n",
    "    for uid, user_ratings in user_est_true.items():\n",
    "        user_ratings.sort(key=lambda x: x[0], reverse=True)\n",
    "        n_rel = sum((true_r >= threshold) for (_, true_r) in user_ratings)\n",
    "        n_rec_k = sum((est >= threshold) for (est, _) in user_ratings[:k])\n",
    "        n_rel_and_rec_k = sum(((true_r >= threshold) and (est >= threshold))\n",
    "                              for (est, true_r) in user_ratings[:k])\n",
    "\n",
    "        precisions[uid] = n_rel_and_rec_k / n_rec_k if n_rec_k != 0 else 1\n",
    "        recalls[uid] = n_rel_and_rec_k / n_rel if n_rel != 0 else 1\n",
    "\n",
    "    return precisions, recalls"
   ]
  },
  {
   "cell_type": "markdown",
   "metadata": {},
   "source": [
    "We will now evaluate the performance of the above-mentioned algorithms."
   ]
  },
  {
   "cell_type": "code",
   "execution_count": 8,
   "metadata": {},
   "outputs": [
    {
     "name": "stdout",
     "output_type": "stream",
     "text": [
      "Evaluating Normal Predictor...\n",
      "Evaluating Baseline Predictor...\n",
      "Estimating biases using als...\n",
      "Estimating biases using als...\n",
      "Estimating biases using als...\n",
      "Estimating biases using als...\n",
      "Estimating biases using als...\n",
      "Estimating biases using als...\n",
      "Estimating biases using als...\n",
      "Estimating biases using als...\n",
      "Estimating biases using als...\n",
      "Estimating biases using als...\n",
      "Evaluating KNN Basic...\n",
      "Computing the msd similarity matrix...\n",
      "Done computing similarity matrix.\n",
      "Computing the msd similarity matrix...\n",
      "Done computing similarity matrix.\n",
      "Computing the msd similarity matrix...\n",
      "Done computing similarity matrix.\n",
      "Computing the msd similarity matrix...\n",
      "Done computing similarity matrix.\n",
      "Computing the msd similarity matrix...\n",
      "Done computing similarity matrix.\n",
      "Computing the msd similarity matrix...\n",
      "Done computing similarity matrix.\n",
      "Computing the msd similarity matrix...\n",
      "Done computing similarity matrix.\n",
      "Computing the msd similarity matrix...\n",
      "Done computing similarity matrix.\n",
      "Computing the msd similarity matrix...\n",
      "Done computing similarity matrix.\n",
      "Computing the msd similarity matrix...\n",
      "Done computing similarity matrix.\n",
      "Evaluating KNN with Means...\n",
      "Computing the msd similarity matrix...\n",
      "Done computing similarity matrix.\n",
      "Computing the msd similarity matrix...\n",
      "Done computing similarity matrix.\n",
      "Computing the msd similarity matrix...\n",
      "Done computing similarity matrix.\n",
      "Computing the msd similarity matrix...\n",
      "Done computing similarity matrix.\n",
      "Computing the msd similarity matrix...\n",
      "Done computing similarity matrix.\n",
      "Computing the msd similarity matrix...\n",
      "Done computing similarity matrix.\n",
      "Computing the msd similarity matrix...\n",
      "Done computing similarity matrix.\n",
      "Computing the msd similarity matrix...\n",
      "Done computing similarity matrix.\n",
      "Computing the msd similarity matrix...\n",
      "Done computing similarity matrix.\n",
      "Computing the msd similarity matrix...\n",
      "Done computing similarity matrix.\n",
      "Evaluating KNN with Z-score...\n",
      "Computing the msd similarity matrix...\n",
      "Done computing similarity matrix.\n",
      "Computing the msd similarity matrix...\n",
      "Done computing similarity matrix.\n",
      "Computing the msd similarity matrix...\n",
      "Done computing similarity matrix.\n",
      "Computing the msd similarity matrix...\n",
      "Done computing similarity matrix.\n",
      "Computing the msd similarity matrix...\n",
      "Done computing similarity matrix.\n",
      "Computing the msd similarity matrix...\n",
      "Done computing similarity matrix.\n",
      "Computing the msd similarity matrix...\n",
      "Done computing similarity matrix.\n",
      "Computing the msd similarity matrix...\n",
      "Done computing similarity matrix.\n",
      "Computing the msd similarity matrix...\n",
      "Done computing similarity matrix.\n",
      "Computing the msd similarity matrix...\n",
      "Done computing similarity matrix.\n",
      "Evaluating KNN Baseline...\n",
      "Estimating biases using als...\n",
      "Computing the msd similarity matrix...\n",
      "Done computing similarity matrix.\n",
      "Estimating biases using als...\n",
      "Computing the msd similarity matrix...\n",
      "Done computing similarity matrix.\n",
      "Estimating biases using als...\n",
      "Computing the msd similarity matrix...\n",
      "Done computing similarity matrix.\n",
      "Estimating biases using als...\n",
      "Computing the msd similarity matrix...\n",
      "Done computing similarity matrix.\n",
      "Estimating biases using als...\n",
      "Computing the msd similarity matrix...\n",
      "Done computing similarity matrix.\n",
      "Estimating biases using als...\n",
      "Computing the msd similarity matrix...\n",
      "Done computing similarity matrix.\n",
      "Estimating biases using als...\n",
      "Computing the msd similarity matrix...\n",
      "Done computing similarity matrix.\n",
      "Estimating biases using als...\n",
      "Computing the msd similarity matrix...\n",
      "Done computing similarity matrix.\n",
      "Estimating biases using als...\n",
      "Computing the msd similarity matrix...\n",
      "Done computing similarity matrix.\n",
      "Estimating biases using als...\n",
      "Computing the msd similarity matrix...\n",
      "Done computing similarity matrix.\n",
      "Evaluating SVD...\n",
      "Evaluating Non-negative Matrix Factorization...\n",
      "Evaluating Co-Clustering...\n"
     ]
    }
   ],
   "source": [
    "def evaluate_algorithms(algorithms, data, k_fold):\n",
    "    results = []\n",
    "    for name, algo in algorithms:\n",
    "        print(f\"Evaluating {name}...\")\n",
    "        algo_results = cross_validate(algo, data, measures=['RMSE'], cv=k_fold, verbose=False)\n",
    "        rmse = algo_results['test_rmse'].mean()\n",
    "\n",
    "        # Precision and Recall\n",
    "        precisions_list = []\n",
    "        recalls_list = []\n",
    "        for trainset, testset in k_fold.split(data):\n",
    "            algo.fit(trainset)\n",
    "            predictions = algo.test(testset)\n",
    "            precisions, recalls = precision_recall_at_k(predictions, k=10, threshold=91)\n",
    "\n",
    "            precisions_list.append(sum(prec for prec in precisions.values()) / len(precisions))\n",
    "            recalls_list.append(sum(rec for rec in recalls.values()) / len(recalls))\n",
    "\n",
    "        precision = sum(precisions_list) / len(precisions_list)\n",
    "        recall = sum(recalls_list) / len(recalls_list)\n",
    "\n",
    "        results.append({\n",
    "            'Algorithm': name,\n",
    "            'RMSE': rmse,\n",
    "            'Precision@k': precision,\n",
    "            'Recall@k': recall,\n",
    "        })\n",
    "    return results\n",
    "# Call the evaluate_algorithms function and store the results\n",
    "k_fold = KFold(n_splits=5, shuffle=True, random_state=random.seed(42))\n",
    "results = evaluate_algorithms(algorithms, data, k_fold)"
   ]
  },
  {
   "cell_type": "markdown",
   "metadata": {},
   "source": [
    "For our case, we will prioritise Precision@k as we will be seeking a smaller and more refined set of recommendations and are not concerned about potentially missing some relevant options."
   ]
  },
  {
   "cell_type": "code",
   "execution_count": 9,
   "metadata": {},
   "outputs": [
    {
     "name": "stdout",
     "output_type": "stream",
     "text": [
      "Columns in the results DataFrame: Index(['Algorithm', 'RMSE', 'Precision@k', 'Recall@k'], dtype='object')\n"
     ]
    },
    {
     "data": {
      "text/html": [
       "<div>\n",
       "<style scoped>\n",
       "    .dataframe tbody tr th:only-of-type {\n",
       "        vertical-align: middle;\n",
       "    }\n",
       "\n",
       "    .dataframe tbody tr th {\n",
       "        vertical-align: top;\n",
       "    }\n",
       "\n",
       "    .dataframe thead th {\n",
       "        text-align: right;\n",
       "    }\n",
       "</style>\n",
       "<table border=\"1\" class=\"dataframe\">\n",
       "  <thead>\n",
       "    <tr style=\"text-align: right;\">\n",
       "      <th></th>\n",
       "      <th>Algorithm</th>\n",
       "      <th>RMSE</th>\n",
       "      <th>Precision@k</th>\n",
       "      <th>Recall@k</th>\n",
       "    </tr>\n",
       "  </thead>\n",
       "  <tbody>\n",
       "    <tr>\n",
       "      <th>0</th>\n",
       "      <td>Normal Predictor</td>\n",
       "      <td>2.169475</td>\n",
       "      <td>0.591165</td>\n",
       "      <td>0.163392</td>\n",
       "    </tr>\n",
       "    <tr>\n",
       "      <th>1</th>\n",
       "      <td>Baseline Predictor</td>\n",
       "      <td>1.614250</td>\n",
       "      <td>0.713860</td>\n",
       "      <td>0.094157</td>\n",
       "    </tr>\n",
       "    <tr>\n",
       "      <th>2</th>\n",
       "      <td>KNN Basic</td>\n",
       "      <td>1.632021</td>\n",
       "      <td>0.562206</td>\n",
       "      <td>0.189607</td>\n",
       "    </tr>\n",
       "    <tr>\n",
       "      <th>3</th>\n",
       "      <td>KNN with Means</td>\n",
       "      <td>1.632070</td>\n",
       "      <td>0.583684</td>\n",
       "      <td>0.201395</td>\n",
       "    </tr>\n",
       "    <tr>\n",
       "      <th>4</th>\n",
       "      <td>KNN with Z-score</td>\n",
       "      <td>1.632026</td>\n",
       "      <td>0.595363</td>\n",
       "      <td>0.199654</td>\n",
       "    </tr>\n",
       "    <tr>\n",
       "      <th>5</th>\n",
       "      <td>KNN Baseline</td>\n",
       "      <td>1.614297</td>\n",
       "      <td>0.720351</td>\n",
       "      <td>0.091526</td>\n",
       "    </tr>\n",
       "    <tr>\n",
       "      <th>6</th>\n",
       "      <td>SVD</td>\n",
       "      <td>1.614658</td>\n",
       "      <td>0.759774</td>\n",
       "      <td>0.069037</td>\n",
       "    </tr>\n",
       "    <tr>\n",
       "      <th>7</th>\n",
       "      <td>Non-negative Matrix Factorization</td>\n",
       "      <td>1.632043</td>\n",
       "      <td>0.588158</td>\n",
       "      <td>0.201573</td>\n",
       "    </tr>\n",
       "    <tr>\n",
       "      <th>8</th>\n",
       "      <td>Co-Clustering</td>\n",
       "      <td>1.632057</td>\n",
       "      <td>0.570232</td>\n",
       "      <td>0.180164</td>\n",
       "    </tr>\n",
       "  </tbody>\n",
       "</table>\n",
       "</div>"
      ],
      "text/plain": [
       "                           Algorithm      RMSE  Precision@k  Recall@k\n",
       "0                   Normal Predictor  2.169475     0.591165  0.163392\n",
       "1                 Baseline Predictor  1.614250     0.713860  0.094157\n",
       "2                          KNN Basic  1.632021     0.562206  0.189607\n",
       "3                     KNN with Means  1.632070     0.583684  0.201395\n",
       "4                   KNN with Z-score  1.632026     0.595363  0.199654\n",
       "5                       KNN Baseline  1.614297     0.720351  0.091526\n",
       "6                                SVD  1.614658     0.759774  0.069037\n",
       "7  Non-negative Matrix Factorization  1.632043     0.588158  0.201573\n",
       "8                      Co-Clustering  1.632057     0.570232  0.180164"
      ]
     },
     "execution_count": 9,
     "metadata": {},
     "output_type": "execute_result"
    }
   ],
   "source": [
    "results = pd.DataFrame(results)\n",
    "print(\"Columns in the results DataFrame:\", results.columns)\n",
    "results = results[['Algorithm', 'RMSE', 'Precision@k', 'Recall@k']]\n",
    "results"
   ]
  },
  {
   "attachments": {},
   "cell_type": "markdown",
   "metadata": {},
   "source": [
    "We will choose the SVD algorithm for tuning as it has the one of the **lowest RMSE** scores and the **highest Precision@k** score."
   ]
  },
  {
   "attachments": {},
   "cell_type": "markdown",
   "metadata": {},
   "source": [
    "---\n",
    "## Hyperparameter Tuning\n",
    "---"
   ]
  },
  {
   "cell_type": "code",
   "execution_count": 10,
   "metadata": {},
   "outputs": [],
   "source": [
    "# Set hyperparameters for SVD\n",
    "param_grid = {\n",
    "    'n_factors': [100],                 # [50, 100, 150] \n",
    "    'n_epochs': [30],                   # [20, 30, 40]  \n",
    "    'lr_all': [0.002],                  # [0.001, 0.002, 0.005] \n",
    "    'reg_all': [0.005],                 # [0.005, 0.05, 0.1]\n",
    "}"
   ]
  },
  {
   "cell_type": "code",
   "execution_count": 11,
   "metadata": {},
   "outputs": [
    {
     "name": "stdout",
     "output_type": "stream",
     "text": [
      "Best RMSE score of tuned SVD model is 1.614379\n",
      "Best parameters of tuned SVD model are {'n_factors': 100, 'n_epochs': 30, 'lr_all': 0.002, 'reg_all': 0.005}\n"
     ]
    }
   ],
   "source": [
    "# Instantiate and fit tuned SVD model using GridSearchCV\n",
    "grid_search = GridSearchCV(SVD, param_grid, measures=['rmse'], cv=5, n_jobs=-1)\n",
    "grid_search.fit(data)\n",
    "\n",
    "print(f'Best RMSE score of tuned SVD model is {round(grid_search.best_score[\"rmse\"],6)}')\n",
    "print(f'Best parameters of tuned SVD model are {grid_search.best_params[\"rmse\"]}')"
   ]
  },
  {
   "cell_type": "code",
   "execution_count": 12,
   "metadata": {},
   "outputs": [],
   "source": [
    "# Train the SVD model with the best hyperparameters\n",
    "tuned_svd = SVD(\n",
    "    n_factors=grid_search.best_params[\"rmse\"][\"n_factors\"],\n",
    "    n_epochs=grid_search.best_params[\"rmse\"][\"n_epochs\"],\n",
    "    lr_all=grid_search.best_params[\"rmse\"][\"lr_all\"],\n",
    "    reg_all=grid_search.best_params[\"rmse\"][\"reg_all\"],\n",
    "    random_state = 42\n",
    ")"
   ]
  },
  {
   "cell_type": "code",
   "execution_count": 13,
   "metadata": {},
   "outputs": [
    {
     "name": "stdout",
     "output_type": "stream",
     "text": [
      "Tuned SVD model:\n",
      "Precision@k: 0.7268\n",
      "Recall@k: 0.0876\n"
     ]
    }
   ],
   "source": [
    "# Precision and Recall\n",
    "k_fold = KFold(n_splits=5, random_state=42)\n",
    "precisions_list = []\n",
    "recalls_list = []\n",
    "\n",
    "for trainset, testset in k_fold.split(data):\n",
    "    tuned_svd.fit(trainset)\n",
    "    predictions = tuned_svd.test(testset)\n",
    "    precisions, recalls = precision_recall_at_k(predictions, k=10, threshold=91)\n",
    "\n",
    "    precisions_list.append(sum(prec for prec in precisions.values()) / len(precisions))\n",
    "    recalls_list.append(sum(rec for rec in recalls.values()) / len(recalls))\n",
    "\n",
    "precision = sum(precisions_list) / len(precisions_list)\n",
    "recall = sum(recalls_list) / len(recalls_list)\n",
    "\n",
    "print(f\"Tuned SVD model:\")\n",
    "print(f\"Precision@k: {precision:.4f}\")\n",
    "print(f\"Recall@k: {recall:.4f}\")"
   ]
  },
  {
   "attachments": {},
   "cell_type": "markdown",
   "metadata": {},
   "source": [
    "About 72.68% of the top 10 recommended wines are relevant to the user's preferences and the system is able to recommend about 8.76% of all relevant wines within the top 10 recommendations.\n",
    "\n",
    "In other words, even though the recommender might not be capturing all relevant wines within the top 10 recommendations, it is providing accurate top recommendations to the user, which is our priority."
   ]
  },
  {
   "cell_type": "markdown",
   "metadata": {},
   "source": [
    "Now we will vary the value of k to get its corresponding precision and recall values. We will plot the precision and recall values for different values of k and see how they vary."
   ]
  },
  {
   "cell_type": "code",
   "execution_count": 23,
   "metadata": {},
   "outputs": [
    {
     "data": {
      "image/png": "[encoded data removed]",
      "text/plain": [
       "<Figure size 640x480 with 1 Axes>"
      ]
     },
     "metadata": {},
     "output_type": "display_data"
    }
   ],
   "source": [
    "def get_precision_recall_at_k_range(model, data, k_range, threshold=91):\n",
    "    k_fold = KFold(n_splits=5, random_state=42)\n",
    "    precision_k_values = []\n",
    "    recall_k_values = []\n",
    "\n",
    "    for k in k_range:\n",
    "        precisions_list = []\n",
    "        recalls_list = []\n",
    "\n",
    "        for trainset, testset in k_fold.split(data):\n",
    "            model.fit(trainset)\n",
    "            predictions = model.test(testset)\n",
    "            precisions, recalls = precision_recall_at_k(predictions, k=k, threshold=threshold)\n",
    "\n",
    "            precisions_list.append(sum(prec for prec in precisions.values()) / len(precisions))\n",
    "            recalls_list.append(sum(rec for rec in recalls.values()) / len(recalls))\n",
    "\n",
    "        precision_k_values.append(sum(precisions_list) / len(precisions_list))\n",
    "        recall_k_values.append(sum(recalls_list) / len(recalls_list))\n",
    "\n",
    "    return precision_k_values, recall_k_values\n",
    "\n",
    "k_range = range(1, 21)  # Vary the value of k from 1 to 20\n",
    "precision_values, recall_values = get_precision_recall_at_k_range(tuned_svd, data, k_range)\n",
    "\n",
    "# Plot the precision and recall values against the value of k\n",
    "plt.plot(k_range, precision_values, label=\"Precision@k\")\n",
    "plt.plot(k_range, recall_values, label=\"Recall@k\")\n",
    "plt.xlabel(\"k\")\n",
    "plt.ylabel(\"Value\")\n",
    "plt.title(\"Precision and Recall at varying k values\")\n",
    "plt.legend()\n",
    "plt.grid()\n",
    "plt.show()"
   ]
  },
  {
   "attachments": {},
   "cell_type": "markdown",
   "metadata": {},
   "source": [
    "We may observe that as k increases, Precision@k hovers around 0.7 and Recall@k hovers at around 0.1.\n",
    "\n",
    "In other words, if a user is given 10 recommendations, 7 of those recommendations would be wines that the user might enjoy or find suitable, and on average, the recommender is only able to identify about 1 out of all relevant wines for a user within the top 10 recommendations. "
   ]
  },
  {
   "cell_type": "code",
   "execution_count": 14,
   "metadata": {},
   "outputs": [],
   "source": [
    "def evaluate_thresholds(tuned_svd, data, thresholds):\n",
    "    results = []\n",
    "    for threshold in thresholds:\n",
    "        k_fold = KFold(n_splits=5, random_state=42)\n",
    "        precisions_list = []\n",
    "        recalls_list = []\n",
    "\n",
    "        for trainset, testset in k_fold.split(data):\n",
    "            tuned_svd.fit(trainset)\n",
    "            predictions = tuned_svd.test(testset)\n",
    "            precisions, recalls = precision_recall_at_k(predictions, k=10, threshold=threshold)\n",
    "\n",
    "            precisions_list.append(sum(prec for prec in precisions.values()) / len(precisions))\n",
    "            recalls_list.append(sum(rec for rec in recalls.values()) / len(recalls))\n",
    "\n",
    "        precision = sum(precisions_list) / len(precisions_list)\n",
    "        recall = sum(recalls_list) / len(recalls_list)\n",
    "        results.append({\n",
    "            'Threshold': threshold,\n",
    "            'Precision@k': precision,\n",
    "            'Recall@k': recall,\n",
    "        })\n",
    "\n",
    "    results_df = pd.DataFrame(results)\n",
    "    results_df['F1-score'] = 2 * (results_df['Precision@k'] * results_df['Recall@k']) / (results_df['Precision@k'] + results_df['Recall@k'])\n",
    "    results_df = results_df[['Threshold', 'Precision@k', 'Recall@k', 'F1-score']]\n",
    "    return results_df"
   ]
  },
  {
   "cell_type": "code",
   "execution_count": 15,
   "metadata": {},
   "outputs": [
    {
     "name": "stdout",
     "output_type": "stream",
     "text": [
      "Number of wines with desired attribute(s): 17\n",
      "Top 10 Recommendations for new user with Desired Attributes:\n"
     ]
    },
    {
     "data": {
      "text/html": [
       "<div>\n",
       "<style scoped>\n",
       "    .dataframe tbody tr th:only-of-type {\n",
       "        vertical-align: middle;\n",
       "    }\n",
       "\n",
       "    .dataframe tbody tr th {\n",
       "        vertical-align: top;\n",
       "    }\n",
       "\n",
       "    .dataframe thead th {\n",
       "        text-align: right;\n",
       "    }\n",
       "</style>\n",
       "<table border=\"1\" class=\"dataframe\">\n",
       "  <thead>\n",
       "    <tr style=\"text-align: right;\">\n",
       "      <th></th>\n",
       "      <th>wine_id</th>\n",
       "      <th>estimated_rating</th>\n",
       "      <th>title</th>\n",
       "      <th>points</th>\n",
       "    </tr>\n",
       "  </thead>\n",
       "  <tbody>\n",
       "    <tr>\n",
       "      <th>0</th>\n",
       "      <td>87272</td>\n",
       "      <td>91.70127</td>\n",
       "      <td>Rosenhof 2015 Orion Eiswein Grüner Veltliner (...</td>\n",
       "      <td>95</td>\n",
       "    </tr>\n",
       "    <tr>\n",
       "      <th>1</th>\n",
       "      <td>115007</td>\n",
       "      <td>91.70127</td>\n",
       "      <td>Dr. Loosen 2009 Ürziger Würzgarten Auslese Rie...</td>\n",
       "      <td>94</td>\n",
       "    </tr>\n",
       "    <tr>\n",
       "      <th>2</th>\n",
       "      <td>122068</td>\n",
       "      <td>91.70127</td>\n",
       "      <td>Tapteil Vineyard 2011 Argus Bone Dry Riesling ...</td>\n",
       "      <td>92</td>\n",
       "    </tr>\n",
       "    <tr>\n",
       "      <th>3</th>\n",
       "      <td>185700</td>\n",
       "      <td>91.70127</td>\n",
       "      <td>Emile Beyer 2016 Tradition Gewurztraminer (Als...</td>\n",
       "      <td>92</td>\n",
       "    </tr>\n",
       "    <tr>\n",
       "      <th>4</th>\n",
       "      <td>6595</td>\n",
       "      <td>91.70127</td>\n",
       "      <td>Fiddlehead 2014 Goosebury Sauvignon Blanc (San...</td>\n",
       "      <td>92</td>\n",
       "    </tr>\n",
       "    <tr>\n",
       "      <th>5</th>\n",
       "      <td>95923</td>\n",
       "      <td>91.70127</td>\n",
       "      <td>Qupé 2015 Sawyer-Lindquist Vineyard Marsanne (...</td>\n",
       "      <td>91</td>\n",
       "    </tr>\n",
       "    <tr>\n",
       "      <th>6</th>\n",
       "      <td>192142</td>\n",
       "      <td>91.70127</td>\n",
       "      <td>Dr. Heidemanns-Bergweiler 2016 Bernkasteler al...</td>\n",
       "      <td>91</td>\n",
       "    </tr>\n",
       "    <tr>\n",
       "      <th>7</th>\n",
       "      <td>150610</td>\n",
       "      <td>91.70127</td>\n",
       "      <td>Lincourt 2014 Courtney's Chardonnay (Sta. Rita...</td>\n",
       "      <td>91</td>\n",
       "    </tr>\n",
       "    <tr>\n",
       "      <th>8</th>\n",
       "      <td>164023</td>\n",
       "      <td>91.70127</td>\n",
       "      <td>Weingut Binz 2015 Nackenheimer Engelsberg Beer...</td>\n",
       "      <td>91</td>\n",
       "    </tr>\n",
       "    <tr>\n",
       "      <th>9</th>\n",
       "      <td>206665</td>\n",
       "      <td>91.70127</td>\n",
       "      <td>Gérard Bertrand 2019 Côte des Roses Rosé (Lang...</td>\n",
       "      <td>91</td>\n",
       "    </tr>\n",
       "  </tbody>\n",
       "</table>\n",
       "</div>"
      ],
      "text/plain": [
       "   wine_id  estimated_rating  \\\n",
       "0    87272          91.70127   \n",
       "1   115007          91.70127   \n",
       "2   122068          91.70127   \n",
       "3   185700          91.70127   \n",
       "4     6595          91.70127   \n",
       "5    95923          91.70127   \n",
       "6   192142          91.70127   \n",
       "7   150610          91.70127   \n",
       "8   164023          91.70127   \n",
       "9   206665          91.70127   \n",
       "\n",
       "                                               title  points  \n",
       "0  Rosenhof 2015 Orion Eiswein Grüner Veltliner (...      95  \n",
       "1  Dr. Loosen 2009 Ürziger Würzgarten Auslese Rie...      94  \n",
       "2  Tapteil Vineyard 2011 Argus Bone Dry Riesling ...      92  \n",
       "3  Emile Beyer 2016 Tradition Gewurztraminer (Als...      92  \n",
       "4  Fiddlehead 2014 Goosebury Sauvignon Blanc (San...      92  \n",
       "5  Qupé 2015 Sawyer-Lindquist Vineyard Marsanne (...      91  \n",
       "6  Dr. Heidemanns-Bergweiler 2016 Bernkasteler al...      91  \n",
       "7  Lincourt 2014 Courtney's Chardonnay (Sta. Rita...      91  \n",
       "8  Weingut Binz 2015 Nackenheimer Engelsberg Beer...      91  \n",
       "9  Gérard Bertrand 2019 Côte des Roses Rosé (Lang...      91  "
      ]
     },
     "execution_count": 15,
     "metadata": {},
     "output_type": "execute_result"
    }
   ],
   "source": [
    "# Define a new user\n",
    "new_user_id = df['user_id'].max() + 1\n",
    "\n",
    "# Define attributes\n",
    "desired_attributes = {'light', 'sweet', 'citrus'}\n",
    "\n",
    "# Sort wines by points in descending order\n",
    "df_sorted = df.sort_values('points', ascending=False)\n",
    "\n",
    "# Filter wines based on desired attributes\n",
    "filtered_wines = df_sorted[df_sorted['tokens'].apply(lambda tokens: all(attribute in tokens for attribute in desired_attributes))]\n",
    "\n",
    "print(\"Number of wines with desired attribute(s):\", len(filtered_wines))\n",
    "\n",
    "# Generate predicted ratings for the new user for each filtered wine\n",
    "predicted_ratings = []\n",
    "for wine_id in filtered_wines['wine_id']:\n",
    "    predicted_rating = tuned_svd.predict(new_user_id, wine_id)\n",
    "    predicted_ratings.append((wine_id, predicted_rating.est))\n",
    "\n",
    "# Sort the wines based on the predicted ratings\n",
    "sorted_predicted_ratings = sorted(predicted_ratings, key=lambda x: x[1], reverse=True)\n",
    "\n",
    "# Retrieve the top 10 recommendations\n",
    "top_10_recommendations = sorted_predicted_ratings[:10]\n",
    "\n",
    "# Compare the estimated ratings to the actual ratings\n",
    "recommended_wines = pd.DataFrame(top_10_recommendations, columns=['wine_id', 'estimated_rating'])\n",
    "recommended_wines = recommended_wines.merge(df[['wine_id', 'title', 'points']], on='wine_id')\n",
    "\n",
    "# Sort by 'points' in descending order\n",
    "recommended_wines = recommended_wines.sort_values(by='points', ascending=False)\n",
    "\n",
    "print(\"Top 10 Recommendations for new user with Desired Attributes:\")\n",
    "recommended_wines"
   ]
  },
  {
   "attachments": {},
   "cell_type": "markdown",
   "metadata": {},
   "source": [
    "Why do we have the same estimated rating for all recommendations?\n",
    "\n",
    "Since our new user has no historical rating data, the model falls back to its global mean and biases, which results in the same predicted ratings for all wines.\n",
    "\n",
    "We will now incorporate content-based features into the model, creating a hybrid recommendation system. This approach would allow it to provide more diverse recommendations based on both collaborative filtering and content-based information."
   ]
  },
  {
   "cell_type": "code",
   "execution_count": 16,
   "metadata": {},
   "outputs": [],
   "source": [
    "# Combine tokens into a single string for each wine\n",
    "df['tokens_str'] = df['tokens'].apply(lambda tokens: ' '.join(tokens))\n",
    "\n",
    "# Create a TfidfVectorizer\n",
    "tvec = TfidfVectorizer(min_df=5, max_df=0.95, max_features=200, ngram_range=(1, 2), sublinear_tf=True)\n",
    "\n",
    "# Fit the vectorizer to the 'tokens' column and transform the tokens into vectors\n",
    "tmat = tvec.fit_transform(df['tokens_str'])\n",
    "\n",
    "# Get the vocabulary\n",
    "tfidf_vocab = tvec.get_feature_names_out()"
   ]
  },
  {
   "cell_type": "code",
   "execution_count": 17,
   "metadata": {},
   "outputs": [
    {
     "name": "stdout",
     "output_type": "stream",
     "text": [
      "['fruit', 'tannin', 'black', 'cherry', 'ripe', 'aroma', 'rich', 'spice', 'full', 'red', 'oak', 'note', 'blackberry', 'plum', 'berry', 'fresh', 'dark', 'dry', 'apple', 'bodied', 'lemon', 'white', 'juicy', 'balanced', 'herb', 'firm', 'raspberry', 'black cherry', 'pepper', 'bright', 'year', 'full bodied', 'cabernet', 'citrus', 'pear', 'vanilla', 'light', 'chocolate', 'dried', 'crisp', 'mineral', 'black fruit', 'peach', 'balance', 'currant', 'dense', 'aging', 'wood', 'soft', 'savory', 'complex', 'sweet', 'spicy', 'elegant', 'smooth', 'licorice', 'vintage', 'orange', 'green', 'sauvignon', 'tobacco', 'strawberry', 'leather', 'fruity', 'pinot', 'wine', 'earthy', 'lime', 'creamy', 'vineyard', 'tart', 'lead', 'cassis', 'hint', 'clove', 'young', 'syrah', 'tannic', 'intense', 'grape', 'flower', 'minerality', 'earth', 'stone', 'medium', 'tight', 'toast', 'complexity', 'powerful', 'cabernet sauvignon', 'barrel', 'merlot', 'layer', 'yellow', 'textured', 'come', 'smoky', 'there', 'grapefruit', 'rose', 'cranberry', 'well', 'cinnamon', 'blueberry', 'black currant', 'open', 'aged', 'coffee', 'cola', 'red fruit', 'violet', 'floral', 'chardonnay', 'tangy', 'anise', 'high', 'vine', 'bold', 'mouth', 'weight', 'baked', 'cedar', 'lush', 'herbal', 'scent', 'peel', 'smoke', 'tone', 'mouthfeel', 'body', 'layered', 'toasty', 'color', 'black pepper', 'depth', 'red cherry', 'apricot', 'black plum', 'mix', 'baking', 'honey', 'zest', 'offering', 'rounded', 'clean', 'baking spice', 'velvety', 'polished', 'old', 'strong']\n"
     ]
    }
   ],
   "source": [
    "# Calculate average tf-idf values for each feature\n",
    "average_tfidf = np.mean(tmat, axis=0).A1\n",
    "\n",
    "# Sort the features by their average tf-idf values in descending order\n",
    "sorted_indices = np.argsort(average_tfidf)[::-1]\n",
    "\n",
    "# Select the top 150 features\n",
    "top_features = sorted_indices[:150]\n",
    "\n",
    "# Get the feature names for the top 150 features\n",
    "attributes = [tfidf_vocab[index] for index in top_features]\n",
    "\n",
    "print(attributes)"
   ]
  },
  {
   "attachments": {},
   "cell_type": "markdown",
   "metadata": {},
   "source": [
    "The above features are our tokens with the highest average TF-IDF values, which will be used as an input for our Streamlit app to allow users to select their desired wine attributes."
   ]
  },
  {
   "cell_type": "markdown",
   "metadata": {},
   "source": [
    "#### Calculate cosine similarity between each wine's tokens and user desired attributes"
   ]
  },
  {
   "attachments": {},
   "cell_type": "markdown",
   "metadata": {},
   "source": [
    "By calculating cosine similarity, we can find wines that are most similar to the user's desired attributes.\n",
    "\n",
    "By combining the predicted ratings for each wine (based on the user's preference) with these cosine similarity scores, we can then create a hybrid recommendation score.\n",
    "\n",
    "This approach effectively takes both content-based and collaborative filtering into account, resulting in a hybrid recommendation system. "
   ]
  },
  {
   "cell_type": "code",
   "execution_count": 18,
   "metadata": {},
   "outputs": [],
   "source": [
    "# Create a dictionary to map wine_id to index\n",
    "wine_id_to_index = df.reset_index().set_index('wine_id')['index'].to_dict()\n",
    "\n",
    "# Define a function to compute cosine similarity\n",
    "def calculate_cosine_similarity(wine_id, desired_attributes):\n",
    "    wine_vector = tmat[df.index.get_loc(wine_id)]\n",
    "\n",
    "     # Filter out attributes that are not in the vocabulary\n",
    "    filtered_attributes = [attribute for attribute in desired_attributes if attribute in tfidf_vocab]\n",
    "\n",
    "    # If all attributes are not in the vocabulary, return 0 as the similarity\n",
    "    if not filtered_attributes:\n",
    "        return 0\n",
    "    \n",
    "    desired_attributes_vector = tvec.transform([' '.join(desired_attributes)])\n",
    "    similarity = cosine_similarity(wine_vector, desired_attributes_vector)\n",
    "    return similarity[0][0]"
   ]
  },
  {
   "cell_type": "code",
   "execution_count": 19,
   "metadata": {},
   "outputs": [],
   "source": [
    "# Define a function to scale a value to a specified range\n",
    "def scale_value(value, old_min, old_max, new_min, new_max):\n",
    "    return ((value - old_min) * (new_max - new_min)) / (old_max - old_min) + new_min"
   ]
  },
  {
   "cell_type": "code",
   "execution_count": 20,
   "metadata": {},
   "outputs": [],
   "source": [
    "def hybrid_recommendations(user_id, desired_attributes, n=10):\n",
    "    \n",
    "    # Get predicted ratings for all wines\n",
    "    predicted_ratings = []\n",
    "    for wine_id in df['wine_id']:\n",
    "        predicted_rating = tuned_svd.predict(user_id, wine_id)\n",
    "        predicted_ratings.append((wine_id, predicted_rating.est))\n",
    "    \n",
    "    # Calculate cosine similarity between desired_attributes and wine tokens\n",
    "    similarities = []\n",
    "    for wine_id in df['wine_id']:\n",
    "        similarity = calculate_cosine_similarity(wine_id, desired_attributes)\n",
    "        similarities.append((wine_id, similarity))\n",
    "    \n",
    "    # Calculate combined ratings\n",
    "    combined_ratings = []\n",
    "    for i, wine_id in enumerate(df['wine_id']):\n",
    "        scaled_similarity = scale_value(similarities[i][1], 0, 1, 90, 100)\n",
    "        combined_rating = predicted_ratings[i][1] * 0.8 + scaled_similarity * 0.2\n",
    "        combined_ratings.append((wine_id, combined_rating))\n",
    "    \n",
    "    # Filter out wines that do not contain all desired attributes\n",
    "    combined_ratings_filtered = [(wine_id, rating) for wine_id, rating in combined_ratings if all(attribute in df.loc[wine_id_to_index[wine_id], 'tokens'] for attribute in desired_attributes)]\n",
    "\n",
    "    # If there are no wines with the desired attributes, return the top 10 recommendations based on predicted ratings\n",
    "    if not combined_ratings_filtered:\n",
    "        sorted_predicted_ratings = sorted(predicted_ratings, key=lambda x: x[1], reverse=True)\n",
    "        top_recommendations = sorted_predicted_ratings[:n]\n",
    "    else:\n",
    "        # Sort the wines based on the combined ratings\n",
    "        sorted_combined_ratings = sorted(combined_ratings_filtered, key=lambda x: x[1], reverse=True)\n",
    "\n",
    "        # Retrieve the top 10 recommendations\n",
    "        top_recommendations = sorted_combined_ratings[:n]\n",
    "\n",
    "    # Create a dataframe with the recommended wines\n",
    "    recommended_wines = pd.DataFrame(top_recommendations, columns=['wine_id', 'combined_rating'])\n",
    "    recommended_wines = recommended_wines.merge(df[['wine_id', 'title', 'points', 'variety']], on='wine_id')\n",
    "\n",
    "    # Remove duplicate titles\n",
    "    recommended_wines = recommended_wines.drop_duplicates(subset=['title'])\n",
    "\n",
    "    # Get the top 10 unique recommendations\n",
    "    recommended_wines = recommended_wines.head(10)\n",
    "\n",
    "    return recommended_wines"
   ]
  },
  {
   "cell_type": "code",
   "execution_count": 28,
   "metadata": {},
   "outputs": [
    {
     "name": "stdout",
     "output_type": "stream",
     "text": [
      "Number of wines with desired attribute(s): 39\n",
      "Top 10 Recommendations for new user with Desired Attributes (Hybrid Approach):\n"
     ]
    },
    {
     "data": {
      "text/html": [
       "<div>\n",
       "<style scoped>\n",
       "    .dataframe tbody tr th:only-of-type {\n",
       "        vertical-align: middle;\n",
       "    }\n",
       "\n",
       "    .dataframe tbody tr th {\n",
       "        vertical-align: top;\n",
       "    }\n",
       "\n",
       "    .dataframe thead th {\n",
       "        text-align: right;\n",
       "    }\n",
       "</style>\n",
       "<table border=\"1\" class=\"dataframe\">\n",
       "  <thead>\n",
       "    <tr style=\"text-align: right;\">\n",
       "      <th></th>\n",
       "      <th>wine_id</th>\n",
       "      <th>combined_rating</th>\n",
       "      <th>title</th>\n",
       "      <th>points</th>\n",
       "      <th>variety</th>\n",
       "    </tr>\n",
       "  </thead>\n",
       "  <tbody>\n",
       "    <tr>\n",
       "      <th>0</th>\n",
       "      <td>199247</td>\n",
       "      <td>92.703360</td>\n",
       "      <td>Thirty-Seven 2016 Pinot Gris (Sonoma Coast)</td>\n",
       "      <td>90</td>\n",
       "      <td>Pinot Gris</td>\n",
       "    </tr>\n",
       "    <tr>\n",
       "      <th>1</th>\n",
       "      <td>174360</td>\n",
       "      <td>92.689207</td>\n",
       "      <td>André Kientzler 2018 Kirchberg de Ribeauvillé ...</td>\n",
       "      <td>93</td>\n",
       "      <td>Riesling</td>\n",
       "    </tr>\n",
       "    <tr>\n",
       "      <th>2</th>\n",
       "      <td>205835</td>\n",
       "      <td>92.688148</td>\n",
       "      <td>North 42 Degrees 2017 Gewurztraminer (Lake Eri...</td>\n",
       "      <td>91</td>\n",
       "      <td>Gewürztraminer</td>\n",
       "    </tr>\n",
       "    <tr>\n",
       "      <th>3</th>\n",
       "      <td>69287</td>\n",
       "      <td>92.643346</td>\n",
       "      <td>Schloss Johannisberger 2012 Silberlack Trocken...</td>\n",
       "      <td>91</td>\n",
       "      <td>Riesling</td>\n",
       "    </tr>\n",
       "    <tr>\n",
       "      <th>4</th>\n",
       "      <td>34024</td>\n",
       "      <td>92.576056</td>\n",
       "      <td>Leo Steen Wines 2011 Saini Farms Chenin Blanc ...</td>\n",
       "      <td>90</td>\n",
       "      <td>Chenin Blanc</td>\n",
       "    </tr>\n",
       "    <tr>\n",
       "      <th>5</th>\n",
       "      <td>64832</td>\n",
       "      <td>92.557696</td>\n",
       "      <td>Chappellet 2016 Signature Chenin Blanc (Napa V...</td>\n",
       "      <td>92</td>\n",
       "      <td>Chenin Blanc</td>\n",
       "    </tr>\n",
       "    <tr>\n",
       "      <th>7</th>\n",
       "      <td>108396</td>\n",
       "      <td>92.555830</td>\n",
       "      <td>St. Urbans-Hof 2012 Nik Weis Schodener Saarfei...</td>\n",
       "      <td>90</td>\n",
       "      <td>Riesling</td>\n",
       "    </tr>\n",
       "    <tr>\n",
       "      <th>8</th>\n",
       "      <td>171611</td>\n",
       "      <td>92.477429</td>\n",
       "      <td>Dr. Pauly Bergweiler 2017 Bernkasteler alte Ba...</td>\n",
       "      <td>91</td>\n",
       "      <td>Riesling</td>\n",
       "    </tr>\n",
       "    <tr>\n",
       "      <th>9</th>\n",
       "      <td>177854</td>\n",
       "      <td>92.472012</td>\n",
       "      <td>Rock Wall 2016 Alverd White (Yolo County)</td>\n",
       "      <td>90</td>\n",
       "      <td>White Blend</td>\n",
       "    </tr>\n",
       "  </tbody>\n",
       "</table>\n",
       "</div>"
      ],
      "text/plain": [
       "   wine_id  combined_rating  \\\n",
       "0   199247        92.703360   \n",
       "1   174360        92.689207   \n",
       "2   205835        92.688148   \n",
       "3    69287        92.643346   \n",
       "4    34024        92.576056   \n",
       "5    64832        92.557696   \n",
       "7   108396        92.555830   \n",
       "8   171611        92.477429   \n",
       "9   177854        92.472012   \n",
       "\n",
       "                                               title  points         variety  \n",
       "0        Thirty-Seven 2016 Pinot Gris (Sonoma Coast)      90      Pinot Gris  \n",
       "1  André Kientzler 2018 Kirchberg de Ribeauvillé ...      93        Riesling  \n",
       "2  North 42 Degrees 2017 Gewurztraminer (Lake Eri...      91  Gewürztraminer  \n",
       "3  Schloss Johannisberger 2012 Silberlack Trocken...      91        Riesling  \n",
       "4  Leo Steen Wines 2011 Saini Farms Chenin Blanc ...      90    Chenin Blanc  \n",
       "5  Chappellet 2016 Signature Chenin Blanc (Napa V...      92    Chenin Blanc  \n",
       "7  St. Urbans-Hof 2012 Nik Weis Schodener Saarfei...      90        Riesling  \n",
       "8  Dr. Pauly Bergweiler 2017 Bernkasteler alte Ba...      91        Riesling  \n",
       "9          Rock Wall 2016 Alverd White (Yolo County)      90     White Blend  "
      ]
     },
     "execution_count": 28,
     "metadata": {},
     "output_type": "execute_result"
    }
   ],
   "source": [
    "# Define a new user\n",
    "new_user_id = df['user_id'].max() + 1\n",
    "\n",
    "desired_attributes = {'white', 'dry', 'floral'}\n",
    "\n",
    "# Sort wines by points in descending order\n",
    "df_sorted = df.sort_values('points', ascending=False)\n",
    "\n",
    "# Filter wines based on desired attributes\n",
    "filtered_wines = df_sorted[df_sorted['tokens'].apply(lambda tokens: all(attribute in tokens for attribute in desired_attributes))]\n",
    "\n",
    "# Get the recommendations\n",
    "recommended_wines = hybrid_recommendations(new_user_id, desired_attributes)\n",
    "print(\"Number of wines with desired attribute(s):\", len(filtered_wines))\n",
    "print(\"Top 10 Recommendations for new user with Desired Attributes (Hybrid Approach):\")\n",
    "recommended_wines"
   ]
  },
  {
   "attachments": {},
   "cell_type": "markdown",
   "metadata": {},
   "source": [
    "We have now created a personalised wine recommender using a hybrid approach:\n",
    "- compute the predicted ratings for all wines using SVD (collaborative filtering) \n",
    "- calculate the cosine similarities between the user's desired attributes and our wine tokens (content-based filtering)"
   ]
  },
  {
   "attachments": {},
   "cell_type": "markdown",
   "metadata": {},
   "source": [
    "---\n",
    "## Conclusion\n",
    "---\n"
   ]
  },
  {
   "attachments": {},
   "cell_type": "markdown",
   "metadata": {},
   "source": [
    "| Algorithm                         | RMSE     | Precision@k (%)| Recall@k (%)|\n",
    "|-----------------------------------|----------|:-----------:|:--------:|\n",
    "| Normal Predictor                  | 2.1695 |   59.1  | 16.3 |\n",
    "| Baseline Predictor                | 1.6143 |   71.4  | 9.4 |\n",
    "| KNN Basic                         | 1.632 |   56.2  | 19.0 |\n",
    "| KNN with Means                    | 1.6321 |   58.4  | 20.1 |\n",
    "| KNN with Z-score                  | 1.632 |   59.5  | 20.0 |\n",
    "| KNN Baseline                      | 1.6143 |   72.0  | 9.2 |\n",
    "| **SVD**                           | **1.6147** | **76.0**|**6.9**|\n",
    "| Non-negative Matrix Factorization | 1.632 |   58.8  | 20.2 |\n",
    "| Co-Clustering                     | 1.6321 |   57.0  | 18.0 |"
   ]
  },
  {
   "attachments": {},
   "cell_type": "markdown",
   "metadata": {},
   "source": [
    "In conclusion, SVD has the best overall performance for the wine recommender as it has the lowest RMSE and the highest Precision@k. At 76%, it is relatively high, meaning that users are more likely to receive recommendations that they will enjoy, thus increasing user satisfaction and trust in the recommendations. However, it has the lowest recall, suggesting that it may not be capturing all the relevant wines for a user within the top k recommendations, like NMF.\n",
    "\n",
    "Overall, as our aim is to prioritize the quality of recommendations (i.e., how well the predicted ratings match the actual ratings and the relevance of recommended items), SVD would do a good job for our wine recommender."
   ]
  },
  {
   "attachments": {},
   "cell_type": "markdown",
   "metadata": {},
   "source": [
    "---\n",
    "## Limitations\n",
    "---"
   ]
  },
  {
   "attachments": {},
   "cell_type": "markdown",
   "metadata": {},
   "source": [
    "The SVD algorithm, while providing the highest precision, has a low recall value. This indicates that it may not be capturing all relevant wines for the user, even though the top k recommendations are mostly accurate.\n",
    "\n",
    "Many of the algorithms have low recall values, which could be a sign that this approach may not be the best fit for this particular problem or dataset."
   ]
  },
  {
   "attachments": {},
   "cell_type": "markdown",
   "metadata": {},
   "source": [
    "---\n",
    "## Recommendations\n",
    "---"
   ]
  },
  {
   "attachments": {},
   "cell_type": "markdown",
   "metadata": {},
   "source": [
    "To improve the recall@k without sacrificing precision, additional features or metadata about the wines (e.g., grape variety, region, or tasting notes) to enhance the recommendation algorithm could be explored. \n",
    "\n",
    "We can consider segmenting users based on their preferences or behaviors to tailor the recommendations more effectively. Personalized recommendations can lead to improved user satisfaction and better overall performance of the recommender system.\n",
    "\n",
    "Lastly, we can perform A/B testing with different algorithms or different configurations of the chosen algorithm to find the most effective solution for our users. This approach allows us to compare the performance of different algorithms in a controlled environment and make data-driven decisions about which algorithm to use."
   ]
  }
 ],
 "metadata": {
  "colab": {
   "provenance": []
  },
  "kernelspec": {
   "display_name": "base",
   "language": "python",
   "name": "python3"
  },
  "language_info": {
   "codemirror_mode": {
    "name": "ipython",
    "version": 3
   },
   "file_extension": ".py",
   "mimetype": "text/x-python",
   "name": "python",
   "nbconvert_exporter": "python",
   "pygments_lexer": "ipython3",
   "version": "3.9.16 (main, Mar  8 2023, 04:29:44) \n[Clang 14.0.6 ]"
  },
  "vscode": {
   "interpreter": {
    "hash": "72a51f30bf8c483e1fc0abe989f81cc66824b206d24365642f1a7e7f70f5a428"
   }
  }
 },
 "nbformat": 4,
 "nbformat_minor": 1
}
